{
 "cells": [
  {
   "cell_type": "markdown",
   "id": "c7453df3-23bf-4935-9e14-801de849dbd1",
   "metadata": {},
   "source": [
    "# Paradigma procedural"
   ]
  },
  {
   "cell_type": "code",
   "execution_count": 60,
   "id": "81aac505-eb4a-404f-bc6a-00de6a849f86",
   "metadata": {},
   "outputs": [],
   "source": [
    "gato = {\n",
    "    'nome': \"\",\n",
    "    'cor': \"\"\n",
    "}"
   ]
  },
  {
   "cell_type": "code",
   "execution_count": 61,
   "id": "a9b32ec6-c2a8-46ca-810a-a70dd3e27370",
   "metadata": {},
   "outputs": [
    {
     "name": "stdout",
     "output_type": "stream",
     "text": [
      "Gato de botas\n",
      "Laranja\n"
     ]
    }
   ],
   "source": [
    "gato['nome'] = \"Gato de botas\"\n",
    "gato['cor'] = \"Laranja\"\n",
    "print(gato['nome'])\n",
    "print(gato['cor'])"
   ]
  },
  {
   "cell_type": "markdown",
   "id": "2a13bf65-362e-4e37-9abc-149eb151ee24",
   "metadata": {},
   "source": [
    "* Outra forma de escrita"
   ]
  },
  {
   "cell_type": "code",
   "execution_count": 62,
   "id": "102b945f-7372-4ed2-8981-aab93d4ed744",
   "metadata": {},
   "outputs": [],
   "source": [
    "gato = {\n",
    "    'nome': \"\",\n",
    "    'cor': \"\"\n",
    "}"
   ]
  },
  {
   "cell_type": "code",
   "execution_count": 63,
   "id": "7fd62c18-756c-4bb2-8b22-2341a2ba81a3",
   "metadata": {},
   "outputs": [
    {
     "name": "stdin",
     "output_type": "stream",
     "text": [
      "Informe o atributo nome do gato Gargamel\n",
      "Informe o atributo cor do gato Azul\n"
     ]
    }
   ],
   "source": [
    "for chave in gato.keys():\n",
    "    gato[chave] = input(\"Informe o atributo \" + str(chave) + \" do gato\")"
   ]
  },
  {
   "cell_type": "markdown",
   "id": "43fe1806-7586-4b92-ae2b-9ff7f2a98dde",
   "metadata": {},
   "source": [
    "* Deixando o código mais organizado"
   ]
  },
  {
   "cell_type": "code",
   "execution_count": 64,
   "id": "aaec98c2-6465-4e66-8d59-a736ea583a79",
   "metadata": {},
   "outputs": [],
   "source": [
    "gato = {\n",
    "    'nome': \"\",\n",
    "    'cor': \"\"\n",
    "}"
   ]
  },
  {
   "cell_type": "code",
   "execution_count": 65,
   "id": "bda17c6b-87b6-4389-8a65-12c52576ed32",
   "metadata": {},
   "outputs": [],
   "source": [
    "def cadastra_gato(nome, cor):\n",
    "    gato['nome'] = nome\n",
    "    gato['cor'] = cor "
   ]
  },
  {
   "cell_type": "code",
   "execution_count": 66,
   "id": "43d65df2-b086-44a8-aab1-364b5a3a5194",
   "metadata": {},
   "outputs": [],
   "source": [
    "def imprime_atributos_gato():\n",
    "    for chave, valor in gato.items():\n",
    "        print(chave, valor)"
   ]
  },
  {
   "cell_type": "code",
   "execution_count": 67,
   "id": "bb403a56-4676-4370-a92e-0c175b49f6a7",
   "metadata": {},
   "outputs": [
    {
     "name": "stdout",
     "output_type": "stream",
     "text": [
      "nome Gato de Botas\n",
      "cor Laranja\n"
     ]
    }
   ],
   "source": [
    "cadastra_gato(\"Gato de Botas\", \"Laranja\")\n",
    "imprime_atributos_gato()"
   ]
  },
  {
   "cell_type": "markdown",
   "id": "95b06e99-4f75-4f83-a7c8-228cc6a2c450",
   "metadata": {},
   "source": [
    "# Classe"
   ]
  },
  {
   "cell_type": "code",
   "execution_count": 68,
   "id": "5ea3816a-6345-4cc5-bdc3-3a0a4f1ca327",
   "metadata": {},
   "outputs": [],
   "source": [
    "class Gato():\n",
    "    def __init__(self, name, color): # valores padrões de atributos\n",
    "        self.nome = name\n",
    "        self.cor = color"
   ]
  },
  {
   "cell_type": "markdown",
   "id": "7b66fd4e-20c5-4956-8264-8288f43c8b3e",
   "metadata": {},
   "source": [
    "* Criando um objeto em python"
   ]
  },
  {
   "cell_type": "code",
   "execution_count": 69,
   "id": "31e54a60-5eee-4922-9b05-eed22fba6366",
   "metadata": {},
   "outputs": [
    {
     "name": "stdout",
     "output_type": "stream",
     "text": [
      "Gato de Botas\n",
      "Laranja\n"
     ]
    }
   ],
   "source": [
    "#Objeto   #Classe   #Paramêtros iniciais\n",
    "gatinho = Gato(\"Gato de Botas\", \"Laranja\")\n",
    "print(gatinho.nome)\n",
    "print(gatinho.cor)"
   ]
  },
  {
   "cell_type": "markdown",
   "id": "8461dcd0-20b3-4aab-a55b-3379344f9cac",
   "metadata": {},
   "source": [
    "* A classe é algo genérico, objeto é algo concreto\n",
    "* Objeto é uma instância ou ocorrência de uma classe"
   ]
  },
  {
   "cell_type": "markdown",
   "id": "2dd79424-aa6a-44bc-8cdf-caebd185662a",
   "metadata": {},
   "source": [
    "* Como funciona a construção de um objeto"
   ]
  },
  {
   "cell_type": "markdown",
   "id": "b059a10d-9362-4610-8c28-f3680b6e5999",
   "metadata": {},
   "source": [
    "# Getters and Setters"
   ]
  },
  {
   "cell_type": "markdown",
   "id": "c7ea704d-f90d-4bda-8472-cb757a22078b",
   "metadata": {},
   "source": [
    "* Getters"
   ]
  },
  {
   "cell_type": "code",
   "execution_count": 70,
   "id": "674b2d97-c493-437f-8aae-985e6be75809",
   "metadata": {},
   "outputs": [],
   "source": [
    "class Gato():\n",
    "\n",
    "    def __init__(self, name, color):\n",
    "        self.__nome = name\n",
    "        self.__cor = color \n",
    "\n",
    "    def getCor(self):\n",
    "        return self.__cor\n",
    "\n",
    "    def getNome(self):\n",
    "        return self.__nome\n"
   ]
  },
  {
   "cell_type": "code",
   "execution_count": 71,
   "id": "8451ef46-29f6-4dbd-800d-7825d7fb88b0",
   "metadata": {},
   "outputs": [
    {
     "name": "stdout",
     "output_type": "stream",
     "text": [
      "Gato de Botas\n",
      "Laranja\n"
     ]
    }
   ],
   "source": [
    "gatinho = Gato(\"Gato de Botas\", \"Laranja\")\n",
    "print(gatinho.getNome())\n",
    "print(gatinho.getCor())\n",
    "\n",
    "# \"__\" Simboliza que o atributo será privado, ou seja não permite que o atributo seja acessado de forma direta ao menos\n",
    "# método manipule o atributo"
   ]
  },
  {
   "cell_type": "markdown",
   "id": "1232b15b-f6dd-4b1b-a734-540f666bf5db",
   "metadata": {},
   "source": [
    "* Setters"
   ]
  },
  {
   "cell_type": "code",
   "execution_count": 72,
   "id": "aa66e622-c937-4b2c-bfed-3ab0dd2eea64",
   "metadata": {},
   "outputs": [],
   "source": [
    "class Gato():\n",
    "    \n",
    "    def __init__(self, name, color):\n",
    "        self.__nome = name\n",
    "        self.__cor = color\n",
    "\n",
    "    def getCor(self):\n",
    "        return str(self.__cor)\n",
    "\n",
    "    def getNome(self):\n",
    "        return str(self.__nome)\n",
    "\n",
    "    def setCor(self, color):\n",
    "        self.__cor = color\n",
    "\n",
    "    def setNome(self, name):\n",
    "        self.__nome = name"
   ]
  },
  {
   "cell_type": "code",
   "execution_count": 101,
   "id": "ac8ed626-16ec-4478-bb8f-8f92df3d06de",
   "metadata": {},
   "outputs": [
    {
     "name": "stdout",
     "output_type": "stream",
     "text": [
      "Gato de Botas\n",
      "Laranja\n"
     ]
    }
   ],
   "source": [
    "gatinho = Gato(\"Gato de Botas\", \"Laranja\")\n",
    "print(gatinho.getNome())\n",
    "print(gatinho.getCor())"
   ]
  },
  {
   "cell_type": "code",
   "execution_count": 102,
   "id": "b9183220-a2e7-4e16-930f-bb0fb4c000e8",
   "metadata": {},
   "outputs": [],
   "source": [
    "gatinho.setNome(\"Gato de Botas do Shrek\")\n",
    "gatinho.setCor(\"Alaranjado\")"
   ]
  },
  {
   "cell_type": "code",
   "execution_count": 103,
   "id": "58e87b8d-6df3-4b57-bfe3-bb3b7dcab229",
   "metadata": {},
   "outputs": [
    {
     "name": "stdout",
     "output_type": "stream",
     "text": [
      "Gato de Botas\n",
      "Laranja\n"
     ]
    }
   ],
   "source": [
    "print(gatinho.getNome())\n",
    "print(gatinho.getCor())"
   ]
  },
  {
   "cell_type": "code",
   "execution_count": 104,
   "id": "94fa84d9-8e1b-489d-9f1d-caeccd2546ad",
   "metadata": {},
   "outputs": [],
   "source": [
    "class Cliente():\n",
    "\n",
    "    def __init__(self, conta, agencia, cpf, nome, saldo=0.0, senha=\"@123abC\"):\n",
    "        self.__conta = conta\n",
    "        self.__agencia = agencia \n",
    "        self.__cpf = cpf \n",
    "        self.__nome = nome\n",
    "        self.__saldo = saldo\n",
    "        self.__senha = senha\n",
    "\n",
    "    def getSaldo(self, senha):\n",
    "        if senha == self.__senha:\n",
    "            return self.__saldo\n",
    "        else:\n",
    "            print(\"É necessário informar a senha para ver o saldo\")"
   ]
  },
  {
   "cell_type": "code",
   "execution_count": 105,
   "id": "98395619-7447-47ba-835a-e31ef3790bcb",
   "metadata": {},
   "outputs": [],
   "source": [
    "jorginho = Cliente(123, 12, \"333.333.333-33\", \"Jorge\", 200.0)"
   ]
  },
  {
   "cell_type": "code",
   "execution_count": 106,
   "id": "bfebe6bd-983c-4db9-8115-26ec335b421e",
   "metadata": {},
   "outputs": [
    {
     "name": "stdout",
     "output_type": "stream",
     "text": [
      "É necessário informar a senha para ver o saldo\n"
     ]
    }
   ],
   "source": [
    "jorginho.getSaldo(\"aaaa\")"
   ]
  },
  {
   "cell_type": "code",
   "execution_count": 107,
   "id": "0dc57c63-5a40-42ae-b36a-b4aaee00fb4b",
   "metadata": {},
   "outputs": [],
   "source": [
    "class Gato():\n",
    "    def __init__(self, name, color):\n",
    "        self.__nome = name\n",
    "        self.__cor = color\n",
    "\n",
    "    def getCor(self):\n",
    "        return str(self.__cor)\n",
    "\n",
    "    def getNome(self):\n",
    "        return str(self.__nome)\n",
    "\n",
    "    def setCor(self, color):\n",
    "        self._cor = color \n",
    "\n",
    "    def setNome(self, name):\n",
    "        self._nome = name\n",
    "\n",
    "    def miar(self):\n",
    "        print(\"Miauuuu!!!\")\n",
    "\n",
    "    def __str__(self):\n",
    "        return \"Miau! Eu sou um objeto da classe Gato. Com licença que preciso lamber meu saquinho.\""
   ]
  },
  {
   "cell_type": "code",
   "execution_count": 97,
   "id": "7ad91027-e53a-409c-bbfc-27d8223e09b2",
   "metadata": {},
   "outputs": [
    {
     "name": "stdout",
     "output_type": "stream",
     "text": [
      "Miauuuu!!!\n"
     ]
    }
   ],
   "source": [
    "gatinho.miar()"
   ]
  },
  {
   "cell_type": "code",
   "execution_count": 108,
   "id": "981a9a60-7117-4364-80ef-7e1d97a56481",
   "metadata": {},
   "outputs": [
    {
     "name": "stdout",
     "output_type": "stream",
     "text": [
      "Miau! Eu sou um objeto da classe Gato. Com licença que preciso lamber meu saquinho.\n"
     ]
    }
   ],
   "source": [
    "print(gatinho)"
   ]
  },
  {
   "cell_type": "code",
   "execution_count": 99,
   "id": "eb71913b-9e06-4728-9f27-d861f102ef12",
   "metadata": {},
   "outputs": [],
   "source": [
    "import matplotlib.pyplot as plt \n",
    "import matplotlib.image as imagem "
   ]
  },
  {
   "cell_type": "code",
   "execution_count": 100,
   "id": "e8b4d7f8-548e-4cb5-b9f7-53e364b78368",
   "metadata": {},
   "outputs": [
    {
     "name": "stdout",
     "output_type": "stream",
     "text": [
      "<__main__.Gato object at 0x00000202B5BA7BC0>\n"
     ]
    }
   ],
   "source": [
    "print(gatinho)"
   ]
  },
  {
   "cell_type": "code",
   "execution_count": null,
   "id": "64f9c18a-a574-48b9-bd3d-a92ff07b1454",
   "metadata": {},
   "outputs": [],
   "source": []
  }
 ],
 "metadata": {
  "kernelspec": {
   "display_name": "Python 3 (ipykernel)",
   "language": "python",
   "name": "python3"
  },
  "language_info": {
   "codemirror_mode": {
    "name": "ipython",
    "version": 3
   },
   "file_extension": ".py",
   "mimetype": "text/x-python",
   "name": "python",
   "nbconvert_exporter": "python",
   "pygments_lexer": "ipython3",
   "version": "3.12.1"
  }
 },
 "nbformat": 4,
 "nbformat_minor": 5
}

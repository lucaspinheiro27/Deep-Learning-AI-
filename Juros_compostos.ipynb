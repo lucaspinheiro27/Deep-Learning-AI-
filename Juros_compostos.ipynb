{
  "nbformat": 4,
  "nbformat_minor": 0,
  "metadata": {
    "colab": {
      "provenance": []
    },
    "kernelspec": {
      "name": "python3",
      "display_name": "Python 3"
    },
    "language_info": {
      "name": "python"
    }
  },
  "cells": [
    {
      "cell_type": "code",
      "execution_count": null,
      "metadata": {
        "colab": {
          "base_uri": "https://localhost:8080/"
        },
        "id": "AvN4OXFjeDrM",
        "outputId": "cbf09d73-6589-4c19-a537-069b56ab4f9d"
      },
      "outputs": [
        {
          "output_type": "stream",
          "name": "stdout",
          "text": [
            "digite o valor de a:1\n",
            "digite o valor de b:4\n",
            "digite o valor de c:1\n",
            "Equação do 1 grau\n"
          ]
        },
        {
          "output_type": "execute_result",
          "data": {
            "text/plain": [
              "-0.25"
            ]
          },
          "metadata": {},
          "execution_count": 86
        }
      ],
      "source": [
        "def equacao(a, b, c):\n",
        "  if a!= 0:\n",
        "    if b!= 0:\n",
        "      print(\"Equação do 1 grau\")\n",
        "      return -c/b\n",
        "    else:\n",
        "      print(\"Não é possível calcular\")\n",
        "      return None\n",
        "  else:#b == 0\n",
        "    delta = b**2 -4*a*c\n",
        "    print(\"Delta = \", delta)\n",
        "    if delta == 0:\n",
        "      print(\"Delta zero\")\n",
        "      return -b/(2*a)\n",
        "    else:\n",
        "      if delta > 0:\n",
        "        print(\"Delta positivo\")\n",
        "      else:\n",
        "        print(\"Delta negativo\")\n",
        "      x1 = (-b + delta**0.5)/(2*a)\n",
        "      x2 = (-b + delta**0.5)/(2*a)\n",
        "      return(x1, x1)\n",
        "\n",
        "a = float(input(\"digite o valor de a:\"))\n",
        "b = float(input(\"digite o valor de b:\"))\n",
        "c = float(input(\"digite o valor de c:\"))\n",
        "equacao(a, b, c)"
      ]
    },
    {
      "cell_type": "code",
      "source": [
        "# (-900)**0.5"
      ],
      "metadata": {
        "id": "kPr0LJAqgEtc"
      },
      "execution_count": null,
      "outputs": []
    },
    {
      "cell_type": "code",
      "source": [
        "def funcao(salario, comissao=5, imposto=0):\n",
        "  return salario + comissao - imposto\n",
        "\n",
        "#funcao(imposto=10, comissao=200, salario=2000)\n",
        "funcao(2000,200, 10)"
      ],
      "metadata": {
        "colab": {
          "base_uri": "https://localhost:8080/"
        },
        "id": "adp6R0g6iHPx",
        "outputId": "10afcceb-55b4-48ab-9cdd-daa0c0946026"
      },
      "execution_count": null,
      "outputs": [
        {
          "output_type": "execute_result",
          "data": {
            "text/plain": [
              "2190"
            ]
          },
          "metadata": {},
          "execution_count": 88
        }
      ]
    },
    {
      "cell_type": "code",
      "source": [
        "def juros_compostos(c, j, t=1):\n",
        "  return c*(1+j)**t\n",
        "\n",
        "juros_compostos(5000, 0.1, 30)"
      ],
      "metadata": {
        "colab": {
          "base_uri": "https://localhost:8080/"
        },
        "id": "y6sf_eqVk7-f",
        "outputId": "65dbb074-68f7-4a8c-a126-11eabfba8358"
      },
      "execution_count": null,
      "outputs": [
        {
          "output_type": "execute_result",
          "data": {
            "text/plain": [
              "87247.01134443225"
            ]
          },
          "metadata": {},
          "execution_count": 89
        }
      ]
    },
    {
      "cell_type": "code",
      "source": [
        "investidor1 = {'name': 'João', 'capital': 10000, 'investimentos': {'CDB': 0.35, 'ações': 0.12, \"LCA\": 0.33, \"LCI\": 0.20}}\n",
        "investidor2 = {'name': 'Maria', 'capital': 8000, 'investimentos': {'CDB': 0.10, 'ações': 0.70, \"FII\": 0.20}}"
      ],
      "metadata": {
        "id": "NUiFRML4pkE7"
      },
      "execution_count": null,
      "outputs": []
    },
    {
      "cell_type": "code",
      "source": [
        "taxas = {'CDB': 0.35, 'ações': 0.12, \"LCI\": 0.33, \"FII\": 0.09, \"LCA\": 0.03}"
      ],
      "metadata": {
        "id": "yEp8ZHPotCFQ"
      },
      "execution_count": null,
      "outputs": []
    },
    {
      "cell_type": "code",
      "source": [
        "investidores = [investidor1, investidor2]"
      ],
      "metadata": {
        "id": "kVIpZCgnuuq_"
      },
      "execution_count": null,
      "outputs": []
    },
    {
      "cell_type": "code",
      "source": [
        "for pessoa in investidores:\n",
        "  nome = pessoa['name']\n",
        "  capital = pessoa['capital']\n",
        "  montante = 0\n",
        "  for aplicacao, percentual in pessoa['investimentos'].items():\n",
        "    montante = montante + juros_compostos(capital* percentual, taxas[aplicacao], 3)\n",
        "  print(nome, \"terá após 3 anos R${:.2f}\".format(montante))"
      ],
      "metadata": {
        "colab": {
          "base_uri": "https://localhost:8080/"
        },
        "id": "HVQwprPT1MI5",
        "outputId": "79a0a95a-4a62-464f-a9b0-43d8d302d21f"
      },
      "execution_count": null,
      "outputs": [
        {
          "output_type": "stream",
          "name": "stdout",
          "text": [
            "João terá após 3 anos R$18608.50\n",
            "Maria terá após 3 anos R$11907.94\n"
          ]
        }
      ]
    },
    {
      "cell_type": "code",
      "source": [],
      "metadata": {
        "id": "ebPQ1oTe4OBv"
      },
      "execution_count": null,
      "outputs": []
    }
  ]
}
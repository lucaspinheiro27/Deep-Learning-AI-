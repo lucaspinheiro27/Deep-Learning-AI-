{
 "cells": [
  {
   "cell_type": "code",
   "execution_count": 2,
   "id": "1e03bb22-aaf1-49e0-b784-d8128974ab68",
   "metadata": {},
   "outputs": [
    {
     "name": "stdout",
     "output_type": "stream",
     "text": [
      "1\n",
      "2\n"
     ]
    }
   ],
   "source": [
    "class Produto():\n",
    "  def __init__(self, id, nome, preco, descricao):\n",
    "    self.__id = id\n",
    "    self.nome = nome\n",
    "    self.preco = preco\n",
    "    self.descricao = descricao\n",
    "\n",
    "  @property #modifica o método para ser um getter\n",
    "  def id(self):\n",
    "    return self.__id\n",
    "\n",
    "  @id.setter #modifica o método para ser um setter\n",
    "  def id(self, novo_id):\n",
    "    self.__id = novo_id\n",
    "\n",
    "ps5 = Produto(1, \"Playstation 5\", 4000, \"Melhor video game do mundo\")\n",
    "print(ps5.id )\n",
    "ps5.id = 2\n",
    "print(ps5.id )\n",
    "    "
   ]
  },
  {
   "cell_type": "markdown",
   "id": "ba99fb2a-8fcd-4aff-b706-1c5cd09a4384",
   "metadata": {},
   "source": [
    "Exercício: crie uma classe para armazenar dados de um cliente de um banco. O cliente tem nome, telefone, CPF, email e endereço. Além disso, tem um saldo inicial. O cliente pode efetuar um saque, depósito ou conferir o saldo"
   ]
  },
  {
   "cell_type": "code",
   "execution_count": 17,
   "id": "f0bcada7-3043-4091-9717-57382ca304cb",
   "metadata": {},
   "outputs": [],
   "source": [
    "class Cliente():\n",
    "  def __init__(self, cpf, nome, endereco, telefone, email, saldo_inicial=0.0, senha=\"123\"):\n",
    "    self.__cpf = cpf\n",
    "    self.nome = nome\n",
    "    self.endereco = endereco\n",
    "    self.telefone = telefone\n",
    "    self.email = email\n",
    "    self.__saldo = saldo_inicial\n",
    "    self.__senha = senha\n",
    "\n",
    "  def depositar(self, valor):\n",
    "    if valor > 0:\n",
    "      self.__saldo +=  valor\n",
    "      print(f\"Depósito de R${valor} efetuado com sucesso!\")\n",
    "    else:\n",
    "      print(\"Impossível fazer o depósito.\")\n",
    "\n",
    "  def sacar(self, valor, senha):\n",
    "    if senha == self.__senha:\n",
    "      print(\"Senha ok!\")\n",
    "      if valor <= self.__saldo:\n",
    "        if valor > 0:\n",
    "          self.__saldo -=  valor\n",
    "          print(f\"Saque de R${valor} efetuado com sucesso!\")\n",
    "        else:\n",
    "          print(\"Valor inválido! O saque deve ser maior que zero\")\n",
    "      else:\n",
    "          print(\"Saldo insuficiente.\")\n",
    "    else:\n",
    "      print(\"Senha inválida!\")\n",
    "\n",
    "  def visualizar_saldo(self, senha):\n",
    "    if senha == self.__senha:\n",
    "      print(f\"Seu saldo atual é R${self.__saldo}\")\n",
    "    else:\n",
    "      print(\"Senha inválida!\")"
   ]
  },
  {
   "cell_type": "code",
   "execution_count": 20,
   "id": "bc1dd554-b3a4-43b5-8e7d-8d3956883040",
   "metadata": {},
   "outputs": [],
   "source": [
    "cliente1 = Cliente(\"123\", \"Gilberto\",\n",
    "                   \"Av. Paulista 12345\",\n",
    "                   \"(11)999999\",\n",
    "                   \"gil@gmail.com\",\n",
    "                   1000000.0,\n",
    "                   \"456\")"
   ]
  },
  {
   "cell_type": "code",
   "execution_count": 21,
   "id": "507b0c6d-3ad5-4826-b48d-9928359fb89f",
   "metadata": {},
   "outputs": [
    {
     "name": "stdout",
     "output_type": "stream",
     "text": [
      "Seu saldo atual é R$1000000.0\n"
     ]
    }
   ],
   "source": [
    "cliente1.visualizar_saldo(\"456\")"
   ]
  },
  {
   "cell_type": "code",
   "execution_count": 22,
   "id": "4c2b8c72-c24c-4ab7-a2a8-e1499ab9fbca",
   "metadata": {},
   "outputs": [
    {
     "name": "stdout",
     "output_type": "stream",
     "text": [
      "Senha ok!\n",
      "Saque de R$240000 efetuado com sucesso!\n"
     ]
    }
   ],
   "source": [
    "cliente1.sacar(240000, \"456\")"
   ]
  },
  {
   "cell_type": "code",
   "execution_count": 23,
   "id": "e9685590-7c16-4ab4-9961-d370bb35c1bf",
   "metadata": {},
   "outputs": [
    {
     "name": "stdout",
     "output_type": "stream",
     "text": [
      "Seu saldo atual é R$760000.0\n"
     ]
    }
   ],
   "source": [
    "cliente1.visualizar_saldo(\"456\")"
   ]
  },
  {
   "cell_type": "code",
   "execution_count": 24,
   "id": "4193ff37-afe3-42b8-abc4-bd360289650d",
   "metadata": {},
   "outputs": [
    {
     "name": "stdout",
     "output_type": "stream",
     "text": [
      "Depósito de R$50 efetuado com sucesso!\n",
      "Seu saldo atual é R$760050.0\n"
     ]
    }
   ],
   "source": [
    "cliente1.depositar(50)\n",
    "cliente1.visualizar_saldo(\"456\")"
   ]
  },
  {
   "cell_type": "code",
   "execution_count": 25,
   "id": "ad4b24c7-3bad-4bcd-9f9a-a5a3a6f28d54",
   "metadata": {},
   "outputs": [
    {
     "name": "stdout",
     "output_type": "stream",
     "text": [
      "Seu saldo atual é R$2000.5\n"
     ]
    }
   ],
   "source": [
    "cliente2 = Cliente(\"000\", \"Astrogildo\", \"Rua x\", \"(11)1111-1111\",\n",
    "                   \"astro@gildo.com\", 2000.50, \"999\")\n",
    "\n",
    "cliente2.visualizar_saldo(\"999\")"
   ]
  },
  {
   "cell_type": "code",
   "execution_count": 26,
   "id": "eee6ccfc-8ed8-4287-94dd-b7eeb8ce55df",
   "metadata": {},
   "outputs": [
    {
     "name": "stdout",
     "output_type": "stream",
     "text": [
      "Depósito de R$100000 efetuado com sucesso!\n",
      "Seu saldo atual é R$102000.5\n"
     ]
    }
   ],
   "source": [
    "cliente2.depositar(100000)\n",
    "cliente2.visualizar_saldo(\"999\")"
   ]
  },
  {
   "cell_type": "code",
   "execution_count": 27,
   "id": "efd1d953-d487-4eee-a66d-2c0eadc93f38",
   "metadata": {},
   "outputs": [
    {
     "name": "stdout",
     "output_type": "stream",
     "text": [
      "Senha ok!\n",
      "Saque de R$300 efetuado com sucesso!\n",
      "Seu saldo atual é R$101700.5\n"
     ]
    }
   ],
   "source": [
    "cliente2.sacar(300, \"999\")\n",
    "cliente2.visualizar_saldo(\"999\")"
   ]
  },
  {
   "cell_type": "code",
   "execution_count": 31,
   "id": "370bf402-ac65-4310-95fc-e1e251be83e9",
   "metadata": {},
   "outputs": [],
   "source": [
    "class Animal():\n",
    "    def __init__(self, nome, cor):\n",
    "        self.nome = nome\n",
    "        self.cor = cor \n",
    "        \n",
    "    def correr(self):\n",
    "        print(\"corri...\")\n",
    "\n",
    "class Gato(Animal):\n",
    "    def __init__(self, nome, cor, qtd_garras):\n",
    "        super().__init__(nome, cor)#construtor do animal\n",
    "        self.garras = qtd_garras#atributo especializado da classe gato\n",
    "\n",
    "    def miar(self):\n",
    "        print(\"Miaauuuu\")\n",
    "\n",
    "class Burro(Animal):\n",
    "    def __init__(self, nome, cor, qtd_cascos):\n",
    "        super().__init__(nome, cor)\n",
    "        self.cascos = qtd_cascos\n",
    "\n",
    "    def relinchar(self):\n",
    "        print(\"inhoóó inhóó\")\n",
    "        "
   ]
  },
  {
   "cell_type": "code",
   "execution_count": 32,
   "id": "71ebd551-c6d1-4010-9bdc-96f383fbfef8",
   "metadata": {},
   "outputs": [
    {
     "name": "stdout",
     "output_type": "stream",
     "text": [
      "corri...\n"
     ]
    }
   ],
   "source": [
    "gatinho1 = Gato(\"Preto e branco\", \"Frajola\", 20)\n",
    "burrinho1 = Burro(\"Pé de pano\", \"Cinza\", 4)\n",
    "\n",
    "burrinho1.correr()"
   ]
  },
  {
   "cell_type": "code",
   "execution_count": 42,
   "id": "5f5d46c4-af63-4f3c-a5a4-5e16c707d702",
   "metadata": {},
   "outputs": [],
   "source": [
    "class Cliente():\n",
    "  def __init__(self, endereco, telefone, email, saldo_inicial=0.0, senha=\"123\"):\n",
    "    self.endereco = endereco\n",
    "    self.telefone = telefone\n",
    "    self.email = email\n",
    "    self.__saldo = saldo_inicial\n",
    "    self.__senha = senha\n",
    "\n",
    "  def depositar(self, valor):\n",
    "    if valor > 0:\n",
    "      self.__saldo +=  valor\n",
    "      print(f\"Depósito de R${valor} efetuado com sucesso!\")\n",
    "    else:\n",
    "      print(\"Impossível fazer o depósito.\")\n",
    "\n",
    "  def sacar(self, valor, senha):\n",
    "    if senha == self.__senha:\n",
    "      print(\"Senha ok!\")\n",
    "      if valor <= self.__saldo:\n",
    "        if valor > 0:\n",
    "          self.__saldo -=  valor\n",
    "          print(f\"Saque de R${valor} efetuado com sucesso!\")\n",
    "        else:\n",
    "          print(\"Valor inválido! O saque deve ser maior que zero\")\n",
    "      else:\n",
    "          print(\"Saldo insuficiente.\")\n",
    "    else:\n",
    "      print(\"Senha inválida!\")\n",
    "\n",
    "  def visualizar_saldo(self, senha):\n",
    "    if senha == self.__senha:\n",
    "      print(f\"Seu saldo atual é R${self.__saldo}\")\n",
    "    else:\n",
    "      print(\"Senha inválida!\")\n",
    "\n",
    "\n",
    "class Pessoa_Fisica(Cliente):\n",
    "  def __init__(self,  nome, cpf, endereco, telefone, email, saldo_inicial, senha):\n",
    "    super().__init__(endereco, telefone, email, saldo_inicial, senha)\n",
    "    self.nome = nome\n",
    "    self.cpf = cpf\n",
    "\n",
    "class Pessoa_Juridica(Cliente):\n",
    "  def __init__(self,  razao_social, cnpj, endereco, telefone, email, saldo_inicial, senha):\n",
    "    super().__init__(endereco, telefone, email, saldo_inicial, senha)\n",
    "    self.razao_social = razao_social\n",
    "    self.cnpj = cnpj"
   ]
  },
  {
   "cell_type": "code",
   "execution_count": 43,
   "id": "b7481ff0-693f-4737-873d-6eb5f4f2e44f",
   "metadata": {},
   "outputs": [],
   "source": [
    "fiap = Pessoa_Juridica('VSPT educacional', \"12345\",\n",
    "                       \"av Paulista\", \"11 11111\", \"fiap@fiap.com\",\n",
    "                       7000000, \"123\")\n",
    "rafa = Pessoa_Fisica(\"Rafael\", \"55555\",\n",
    "                     \"rua x\", \"11 33232323\", \"rafa@rafa.com\",\n",
    "                     9000000, \"987\")"
   ]
  },
  {
   "cell_type": "code",
   "execution_count": 44,
   "id": "20aa5ea0-6837-4327-b324-d4691d2c95df",
   "metadata": {},
   "outputs": [
    {
     "name": "stdin",
     "output_type": "stream",
     "text": [
      "Digite a senha: 123\n"
     ]
    },
    {
     "name": "stdout",
     "output_type": "stream",
     "text": [
      "Seu saldo atual é R$7000000\n"
     ]
    }
   ],
   "source": [
    "fiap.visualizar_saldo(input(\"Digite a senha:\"))"
   ]
  },
  {
   "cell_type": "code",
   "execution_count": 45,
   "id": "bbfd6889-ff5d-4be2-92a0-ab5b0dbe667d",
   "metadata": {},
   "outputs": [
    {
     "name": "stdout",
     "output_type": "stream",
     "text": [
      "Seu saldo atual é R$9000000\n",
      "Senha ok!\n",
      "Saque de R$2500 efetuado com sucesso!\n",
      "Seu saldo atual é R$8997500\n"
     ]
    }
   ],
   "source": [
    "rafa.visualizar_saldo(\"987\")\n",
    "rafa.sacar(2500, \"987\")\n",
    "rafa.visualizar_saldo(\"987\")"
   ]
  },
  {
   "cell_type": "code",
   "execution_count": null,
   "id": "7e575903-c2e4-4130-b2f0-1df1e0b9ee33",
   "metadata": {},
   "outputs": [],
   "source": []
  }
 ],
 "metadata": {
  "kernelspec": {
   "display_name": "Python 3 (ipykernel)",
   "language": "python",
   "name": "python3"
  },
  "language_info": {
   "codemirror_mode": {
    "name": "ipython",
    "version": 3
   },
   "file_extension": ".py",
   "mimetype": "text/x-python",
   "name": "python",
   "nbconvert_exporter": "python",
   "pygments_lexer": "ipython3",
   "version": "3.12.1"
  }
 },
 "nbformat": 4,
 "nbformat_minor": 5
}

{
 "cells": [
  {
   "cell_type": "markdown",
   "id": "de01ef0e-1bd3-4acd-ad50-a09756c0bf3b",
   "metadata": {},
   "source": [
    "# Resolvendo equação de segundo grau"
   ]
  },
  {
   "cell_type": "code",
   "execution_count": 5,
   "id": "22072dd4-e2a0-4d1a-bb09-efa35b9406fe",
   "metadata": {},
   "outputs": [
    {
     "name": "stdin",
     "output_type": "stream",
     "text": [
      "Digite o valor do coefieciente de a:  1\n",
      "Digite o valor do coefieciente de b:  5\n",
      "Digite o valor do coefieciente de c:  6\n"
     ]
    },
    {
     "name": "stdout",
     "output_type": "stream",
     "text": [
      "O valor de delta é:  1\n",
      "O valor de x1 é:  -3.0\n",
      "O valor de x2 é:  -2.0\n"
     ]
    }
   ],
   "source": [
    "# ax^2+bx+c = 0\n",
    "a = int(input(\"Digite o valor do coefieciente de a: \"))\n",
    "b = int(input(\"Digite o valor do coefieciente de b: \"))\n",
    "c = int(input(\"Digite o valor do coefieciente de c: \"))\n",
    "# delta = b^2 - 4ac\n",
    "delta = b**2 - 4*a*c\n",
    "print(\"O valor de delta é: \", delta)\n",
    "# x1 = (-b +- raiz(delta))/2a\n",
    "x1 = (-b - delta**0.5) / (2*a)\n",
    "x2 = (-b + delta**0.5) / (2*a)\n",
    "print(\"O valor de x1 é: \", x1)\n",
    "print(\"O valor de x2 é: \", x2)"
   ]
  },
  {
   "cell_type": "markdown",
   "id": "691d5c39-0b63-460f-8e25-46cbaf223fa2",
   "metadata": {},
   "source": [
    "# Resolvendo equação de segundo grau usando conceito de vetor"
   ]
  },
  {
   "cell_type": "code",
   "execution_count": 15,
   "id": "09523823-e836-4c59-a5ac-371e41ba60e7",
   "metadata": {},
   "outputs": [
    {
     "name": "stdin",
     "output_type": "stream",
     "text": [
      "Digite o valor do coefieciente de a:  1\n"
     ]
    },
    {
     "name": "stdout",
     "output_type": "stream",
     "text": [
      "1\n"
     ]
    },
    {
     "name": "stdin",
     "output_type": "stream",
     "text": [
      "Digite o valor do coefieciente de b:  5\n"
     ]
    },
    {
     "name": "stdout",
     "output_type": "stream",
     "text": [
      "2\n"
     ]
    },
    {
     "name": "stdin",
     "output_type": "stream",
     "text": [
      "Digite o valor do coefieciente de c:  6\n"
     ]
    },
    {
     "name": "stdout",
     "output_type": "stream",
     "text": [
      "3\n",
      "O valor de delta é:  1\n",
      "O valor de x1 é:  -3.0\n",
      "O valor de x2 é:  -2.0\n"
     ]
    }
   ],
   "source": [
    "# Armazenando coeficientes em um vetor ou lista\n",
    "\n",
    "# Formula da equação\n",
    "# ax^2+bx+c = 0\n",
    "vetor = []  #declarando o vetor ou lista vazia\n",
    "a = int(input(\"Digite o valor do coefieciente de a: \"))\n",
    "vetor.append(a) # adicionando o valor do coeficiente \"a\" no vetor\n",
    "print(len(vetor)) # O vetor muda constantemente de tamanho\n",
    "b = int(input(\"Digite o valor do coefieciente de b: \"))\n",
    "vetor.append(b) # adicionando o valor do coeficiente \"b\" no vetor\n",
    "print(len(vetor))\n",
    "c = int(input(\"Digite o valor do coefieciente de c: \"))\n",
    "vetor.append(c) # adicionando o valor do coeficiiente \"c\" no vetor\n",
    "print(len(vetor))\n",
    "\n",
    "# mostrando os valores adicionados no vetor\n",
    "#print(vetor[0]) # mostrando o valor de \"a\"\n",
    "#print(vetor[1]) # mostrando o valor de \"b\"\n",
    "#print(vetor[2]) # mostrando o valor de \"c\"\n",
    "\n",
    "# Formula de delta\n",
    "# delta = b^2 - 4ac\n",
    "delta = vetor[1]**2 - 4*vetor[0]*vetor[2]\n",
    "print(\"O valor de delta é: \", delta)\n",
    "\n",
    "# calculo das raizes\n",
    "# x1 = (-b +- raiz(delta))/2a\n",
    "x1 = (-vetor[1] - delta**0.5) / (2*vetor[0])\n",
    "x2 = (-vetor[1] + delta**0.5) / (2*vetor[0])\n",
    "print(\"O valor de x1 é: \", x1)\n",
    "print(\"O valor de x2 é: \", x2)"
   ]
  },
  {
   "cell_type": "markdown",
   "id": "0e9adc9c-3a6a-4743-a467-0db9be7c5718",
   "metadata": {},
   "source": [
    "# Resolvendo equações de segundo grau utilizando laço \"for\""
   ]
  },
  {
   "cell_type": "code",
   "execution_count": 1,
   "id": "86550e59-0e4e-4fc1-a86b-d246e1677400",
   "metadata": {},
   "outputs": [
    {
     "name": "stdout",
     "output_type": "stream",
     "text": [
      "Digite o 1 º coeficiente:\n"
     ]
    },
    {
     "name": "stdin",
     "output_type": "stream",
     "text": [
      " 1\n"
     ]
    },
    {
     "name": "stdout",
     "output_type": "stream",
     "text": [
      "Digite o 2 º coeficiente:\n"
     ]
    },
    {
     "name": "stdin",
     "output_type": "stream",
     "text": [
      " 5\n"
     ]
    },
    {
     "name": "stdout",
     "output_type": "stream",
     "text": [
      "Digite o 3 º coeficiente:\n"
     ]
    },
    {
     "name": "stdin",
     "output_type": "stream",
     "text": [
      " 6\n"
     ]
    },
    {
     "name": "stdout",
     "output_type": "stream",
     "text": [
      "[1.0, 5.0, 6.0]\n",
      "O valor de delta é:  1.0\n",
      "O valor de x1 é:  -3.0\n",
      "O valor de x2 é:  -2.0\n"
     ]
    }
   ],
   "source": [
    "# Armazenando coeficientes em um vetor ou lista\n",
    "\n",
    "# Formula da equação\n",
    "# ax^2+bx+c = 0\n",
    "vetor = []  #declarando o vetor ou lista vazia\n",
    "\n",
    "# Iteração com o usuario através do laço for\n",
    "for i in range(3): # Preciso de 3 coeficientes, começa em 0,1,2\n",
    "    print(\"Digite o\",i+1, \"º coeficiente:\")\n",
    "    u = float(input()) # Usuario ira digitar um valor\n",
    "    vetor.append(u) # adicionando a variavel do usuario no vetor\n",
    "\n",
    "print(vetor)\n",
    "\n",
    "# Formula de delta\n",
    "# delta = b^2 - 4ac\n",
    "delta = vetor[1]**2 - 4*vetor[0]*vetor[2]\n",
    "print(\"O valor de delta é: \", delta)\n",
    "\n",
    "# calculo das raizes\n",
    "# x1 = (-b +- raiz(delta))/2a\n",
    "x1 = (-vetor[1] - delta**0.5) / (2*vetor[0])\n",
    "x2 = (-vetor[1] + delta**0.5) / (2*vetor[0])\n",
    "print(\"O valor de x1 é: \", x1)\n",
    "print(\"O valor de x2 é: \", x2)"
   ]
  },
  {
   "cell_type": "code",
   "execution_count": null,
   "id": "8b564543-82df-4c14-8263-6a118483a12b",
   "metadata": {},
   "outputs": [],
   "source": []
  }
 ],
 "metadata": {
  "kernelspec": {
   "display_name": "Python 3 (ipykernel)",
   "language": "python",
   "name": "python3"
  },
  "language_info": {
   "codemirror_mode": {
    "name": "ipython",
    "version": 3
   },
   "file_extension": ".py",
   "mimetype": "text/x-python",
   "name": "python",
   "nbconvert_exporter": "python",
   "pygments_lexer": "ipython3",
   "version": "3.12.1"
  }
 },
 "nbformat": 4,
 "nbformat_minor": 5
}

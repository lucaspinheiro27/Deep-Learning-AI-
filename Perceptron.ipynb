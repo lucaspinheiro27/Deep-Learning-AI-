{
  "nbformat": 4,
  "nbformat_minor": 0,
  "metadata": {
    "colab": {
      "provenance": []
    },
    "kernelspec": {
      "name": "python3",
      "display_name": "Python 3"
    },
    "language_info": {
      "name": "python"
    }
  },
  "cells": [
    {
      "cell_type": "code",
      "execution_count": null,
      "metadata": {
        "colab": {
          "base_uri": "https://localhost:8080/"
        },
        "id": "ryN_AEPb0jN7",
        "outputId": "9e8a5d74-0798-4d1c-84e9-e8b01136b8f7"
      },
      "outputs": [
        {
          "output_type": "stream",
          "name": "stdout",
          "text": [
            "Soma: 1.4\n",
            "Saída: 1\n"
          ]
        }
      ],
      "source": [
        "entradas = [1,2,3]\n",
        "pesos = [0.1,0.2,0.3]\n",
        "\n",
        "def somatorio(inputs, w):\n",
        "  total = 0\n",
        "  for i in range(3):\n",
        "    total += inputs[i]*w[i]\n",
        "  return total\n",
        "\n",
        "def degrau(u):\n",
        "  if u >= 1:\n",
        "    return 1\n",
        "  return 0\n",
        "\n",
        "u = somatorio(entradas, pesos)\n",
        "output = degrau(u)\n",
        "print(\"Soma:\", u)\n",
        "print(\"Saída:\", output)"
      ]
    },
    {
      "cell_type": "code",
      "source": [
        "import numpy as np\n",
        "entradas = np.array([1,2,3])\n",
        "pesos = np.array([0.1,0.2,0.3])\n",
        "\n",
        "def somatorio(inputs, w):\n",
        "  '''total = 0\n",
        "  for i in range(3):\n",
        "    total += inputs[i]*w[i]\n",
        "  return total'''\n",
        "  return inputs.dot(w)\n",
        "\n",
        "def degrau(u):\n",
        "  if u >= 1:\n",
        "    return 1\n",
        "  return 0\n",
        "\n",
        "u = somatorio(entradas, pesos)\n",
        "output = degrau(u)\n",
        "print(\"Soma:\", u)\n",
        "print(\"Saída:\", output)"
      ],
      "metadata": {
        "colab": {
          "base_uri": "https://localhost:8080/"
        },
        "id": "Dc4zRCg-b2GG",
        "outputId": "de09aced-cd9f-4395-8cf6-3a62c23b896c"
      },
      "execution_count": null,
      "outputs": [
        {
          "output_type": "stream",
          "name": "stdout",
          "text": [
            "Soma: 1.4\n",
            "Saída: 1\n"
          ]
        }
      ]
    },
    {
      "cell_type": "code",
      "source": [
        "def sigmoide(u, beta):\n",
        "  return 1/(1 + np.exp(-beta*u))\n",
        "\n",
        "entradas = np.array([-1.0, 5.0, 0.2])\n",
        "pesos = np.array([0.11, -0.2, 4.0])\n",
        "\n",
        "u = somatorio(entradas, pesos)\n",
        "output = sigmoide(u, 1.25)\n",
        "print(\"u =\", u)\n",
        "print(\"Saída =\", output)"
      ],
      "metadata": {
        "colab": {
          "base_uri": "https://localhost:8080/"
        },
        "id": "oQUK9YYddf3t",
        "outputId": "ef901278-bc7f-453b-ecd2-32ca94f1dc9d"
      },
      "execution_count": null,
      "outputs": [
        {
          "output_type": "stream",
          "name": "stdout",
          "text": [
            "u = -0.31000000000000005\n",
            "Saída = 0.4043192693921528\n"
          ]
        }
      ]
    },
    {
      "cell_type": "code",
      "source": [],
      "metadata": {
        "id": "bB774DZfff7s"
      },
      "execution_count": null,
      "outputs": []
    }
  ]
}